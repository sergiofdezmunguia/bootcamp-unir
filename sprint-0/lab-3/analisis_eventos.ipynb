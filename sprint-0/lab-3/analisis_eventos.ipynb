{
 "cells": [
  {
   "cell_type": "markdown",
   "id": "8eb7f36a",
   "metadata": {},
   "source": [
    "# **Ejercicio proyecto: Data Analytics training - Reto proyecto Manipulación y análisis de datos en Pandas**\n",
    "\n",
    "## Autor: Sergio Fernández Munguía\n",
    "\n",
    "### 1. Importar las librerías necesarias."
   ]
  },
  {
   "cell_type": "code",
   "execution_count": 1,
   "id": "688ba64f",
   "metadata": {},
   "outputs": [],
   "source": [
    "import pandas as pd"
   ]
  },
  {
   "cell_type": "markdown",
   "id": "ec126413",
   "metadata": {},
   "source": [
    "### 2. Cargar los datos \n",
    "Utiliza Pandas para cargar los archivos CSV: `eventos.csv`, `aficionados.csv` y `promociones.csv`. Guarda los datos en tres DataFrames distintos."
   ]
  },
  {
   "cell_type": "code",
   "execution_count": null,
   "id": "5d538826",
   "metadata": {},
   "outputs": [],
   "source": [
    "eventos = pd.read_csv(\"eventos.csv\")\n",
    "aficionados = pd.read_csv(\"aficionados.csv\")\n",
    "promociones = pd.read_csv(\"promociones.csv\")\n",
    "\n",
    "df_eventos = pd.DataFrame(eventos)\n",
    "df_aficionados = pd.DataFrame(aficionados)\n",
    "df_promociones = pd.DataFrame(promociones)"
   ]
  }
 ],
 "metadata": {
  "kernelspec": {
   "display_name": ".unir",
   "language": "python",
   "name": "python3"
  },
  "language_info": {
   "codemirror_mode": {
    "name": "ipython",
    "version": 3
   },
   "file_extension": ".py",
   "mimetype": "text/x-python",
   "name": "python",
   "nbconvert_exporter": "python",
   "pygments_lexer": "ipython3",
   "version": "3.11.12"
  }
 },
 "nbformat": 4,
 "nbformat_minor": 5
}
