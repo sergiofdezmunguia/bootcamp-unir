{
 "cells": [
  {
   "cell_type": "markdown",
   "metadata": {},
   "source": [
    "### Bienvenido a IceCream Avenue"
   ]
  },
  {
   "cell_type": "markdown",
   "metadata": {},
   "source": [
    "Bienvenido a _Ice Cream Avenue_. Comenzarás tu prueba aquí calculando los precios de los helados. Si el cono vale 0.5€, ,la bola de helado vale 2€, y cada topping 0.25€, calcula el precio de un helado de cono con 2 bolas y 3 toppings. Para ello, define variables en Python y aplica operaciones numéricas entre ellas"
   ]
  },
  {
   "cell_type": "code",
   "execution_count": null,
   "metadata": {},
   "outputs": [
    {
     "name": "stdout",
     "output_type": "stream",
     "text": [
      "El precio del helado es: 5.25€\n"
     ]
    }
   ],
   "source": [
    "cono = 0.5\n",
    "bola = 2\n",
    "topping = 0.25\n",
    "\n",
    "precio_helado = cono + 2 * bola + 3 * topping\n",
    "\n",
    "print(f\"El precio del helado es: {precio_helado} €\")"
   ]
  },
  {
   "cell_type": "markdown",
   "metadata": {},
   "source": [
    "### Reemplazar caracteres"
   ]
  },
  {
   "cell_type": "markdown",
   "metadata": {},
   "source": [
    "_Ice Cream Avenue_ ha cambiado su logotipo y ahora quiere que todos los nombres de los helados empiecen por mayúscula y que las \"o\" se reemplacen por \"0\". Escribe un programa que reciba el nombre de un helado y devuelva el nombre modificado."
   ]
  },
  {
   "cell_type": "code",
   "execution_count": 10,
   "metadata": {},
   "outputs": [
    {
     "name": "stdout",
     "output_type": "stream",
     "text": [
      "El helado renombrado es: Ch0c0late\n"
     ]
    }
   ],
   "source": [
    "def rename(helado):\n",
    "    helado = helado.replace('o', '0').capitalize()\n",
    "    return helado\n",
    "\n",
    "helado = \"chocolate\"\n",
    "helado_renombrado = rename(helado)\n",
    "print(f\"El helado renombrado es: {helado_renombrado}\")"
   ]
  },
  {
   "cell_type": "markdown",
   "metadata": {
    "ExecuteTime": {
     "end_time": "2023-04-28T18:24:39.243559Z",
     "start_time": "2023-04-28T18:24:39.219559Z"
    }
   },
   "source": [
    "### Al revés"
   ]
  },
  {
   "cell_type": "markdown",
   "metadata": {
    "ExecuteTime": {
     "end_time": "2023-04-28T18:24:39.243559Z",
     "start_time": "2023-04-28T18:24:39.219559Z"
    }
   },
   "source": [
    "Por alguna extraña estrategia de marketing, _Ice Cream Avenue_ quiere escribir el nombre de sus helados al revés. Escribe un programa que reciba el nombre de un helado y lo imprima al revés."
   ]
  },
  {
   "cell_type": "code",
   "execution_count": 14,
   "metadata": {},
   "outputs": [
    {
     "name": "stdout",
     "output_type": "stream",
     "text": [
      "El nuevo nombre del helado es: etalocohc\n"
     ]
    }
   ],
   "source": [
    "def backward(helado):\n",
    "    helado = helado[::-1]\n",
    "    print(f\"El nuevo nombre del helado es: {helado}\")\n",
    "\n",
    "helado = \"chocolate\"\n",
    "helado_retrocedido = backward(helado)"
   ]
  },
  {
   "cell_type": "markdown",
   "metadata": {},
   "source": [
    "### Contar vocales"
   ]
  },
  {
   "cell_type": "markdown",
   "metadata": {},
   "source": [
    "_Ice Cream Avenue_ quiere saber cuántas vocales hay en el nombre de cada helado para colorearlas en sus carteles. Escribe una función llamada contar_vocales que reciba un parámetro: el nombre de un helado, y que devuelva el número de vocales que contiene."
   ]
  },
  {
   "cell_type": "code",
   "execution_count": 16,
   "metadata": {},
   "outputs": [
    {
     "name": "stdout",
     "output_type": "stream",
     "text": [
      "El número de vocales en 'frambuesa' es: 4\n"
     ]
    }
   ],
   "source": [
    "def contar_vocales(helado):\n",
    "    vocales = \"aeiou\"\n",
    "    contador = 0\n",
    "    for letra in helado:\n",
    "        if letra.lower() in vocales:\n",
    "            contador += 1\n",
    "    return contador\n",
    "\n",
    "helado = \"frambuesa\"\n",
    "numero_vocales = contar_vocales(helado)\n",
    "print(f\"El número de vocales en '{helado}' es: {numero_vocales}\")"
   ]
  },
  {
   "cell_type": "markdown",
   "metadata": {},
   "source": [
    "### Descuento por cantidad de productos"
   ]
  },
  {
   "cell_type": "markdown",
   "metadata": {},
   "source": [
    "En _Ice Cream Avenue_ se quiere implementar una política de descuentos para sus clientes. Si un cliente compra más de 5 helados, se le aplicará un descuento del 20% en el total de la compra, y si compra entre 3 y 5 helados, el descuento aplicado será del 10%. Si compra menos de 3 helados, no se le aplicará ningún descuento. \n",
    "Sabiendo que el precio de los helados es de 3€, escribe una función que reciba el número de helados y calcule el precio total de la compra con el descuento correspondiente. Prueba el correcto funcionamiento haciendo una llamada a la función con algún ejemplo"
   ]
  },
  {
   "cell_type": "code",
   "execution_count": 18,
   "metadata": {},
   "outputs": [
    {
     "name": "stdout",
     "output_type": "stream",
     "text": [
      "El precio total por 4 helados es: 10.8 €\n"
     ]
    }
   ],
   "source": [
    "def aplicar_descuento(num_helados, descuento=0, precio=3):\n",
    "    if num_helados >= 3 and num_helados <= 5:\n",
    "        descuento = 0.1  \n",
    "    elif num_helados > 5:\n",
    "        descuento = 0.2\n",
    "    return precio * num_helados * (1 - descuento)\n",
    "\n",
    "num_helados = 4\n",
    "precio_total = aplicar_descuento(num_helados)\n",
    "print(f\"El precio total por {num_helados} helados es: {precio_total} €\")\n"
   ]
  },
  {
   "cell_type": "markdown",
   "metadata": {},
   "source": [
    "### Encontrar la palabra más larga"
   ]
  },
  {
   "cell_type": "markdown",
   "metadata": {},
   "source": [
    "La empresa 'Ice Cream Avenue' quiere saber cuál es la palabra más larga en los nombres de sus helados. Escribe una función que reciba una lista de nombres de helados y devuelva la palabra más larga."
   ]
  },
  {
   "cell_type": "code",
   "execution_count": 21,
   "metadata": {},
   "outputs": [
    {
     "name": "stdout",
     "output_type": "stream",
     "text": [
      "La palabra más larga es: stracciatella\n"
     ]
    }
   ],
   "source": [
    "def longest_word(helados):\n",
    "    longest = helados[0]\n",
    "    for helado in helados:\n",
    "        if len(helado) > len(longest):\n",
    "            longest = helado\n",
    "    return longest\n",
    "\n",
    "helados = [\"chocolate\", \"vainilla\", \"fresa\", \"frambuesa\", \"stracciatella\"]\n",
    "\n",
    "longest = longest_word(helados)\n",
    "print(f\"La palabra más larga es: {longest}\")"
   ]
  },
  {
   "cell_type": "markdown",
   "metadata": {},
   "source": [
    "### Sabor con más ventas"
   ]
  },
  {
   "cell_type": "markdown",
   "metadata": {},
   "source": [
    "Escribe una función que reciba un número variable de parametros que indiquen diferentes sabores, cuyos respectivos valores sean las ventas de esos sabores. La función debe devolvernos cuál es el sabor con más ventas, y el número de ventas"
   ]
  },
  {
   "cell_type": "code",
   "execution_count": 24,
   "metadata": {},
   "outputs": [
    {
     "name": "stdout",
     "output_type": "stream",
     "text": [
      "El helado más vendido es: vainilla\n"
     ]
    }
   ],
   "source": [
    "def mas_ventas(ventas):\n",
    "    max_ventas = max(ventas.values())\n",
    "    mas_vendido = [helado for helado, cantidad in ventas.items() if cantidad == max_ventas]\n",
    "    return mas_vendido\n",
    "\n",
    "ventas = {\n",
    "    \"chocolate\": 10,\n",
    "    \"vainilla\": 15,\n",
    "    \"fresa\": 8,\n",
    "    \"frambuesa\": 12,\n",
    "    \"stracciatella\": 14\n",
    "}   \n",
    "\n",
    "mas_vendido = mas_ventas(ventas)\n",
    "print(f\"El helado más vendido es: {', '.join(mas_vendido)}\")"
   ]
  },
  {
   "cell_type": "markdown",
   "metadata": {},
   "source": [
    "### Crear descuentos"
   ]
  },
  {
   "cell_type": "markdown",
   "metadata": {},
   "source": [
    "Define una función llamada crear_descuento que tome como parámetro una palabra y un porcentaje de descuento, y cree un string con la palabra en mayúsculas seguida del descuento en tanto por ciento. Por ejemplo, con los valores de parámetros helados y 0.5 debe devolver HELADOS50. El porcentaje de descuento debe ser un float mayor que 0 y menor que 1, de lo contrario la función debe levantar una excepción DiscountError indicando que el porcentaje de descuento no es válido. Utiliza un bloque try-except para manejar otras excepciones."
   ]
  },
  {
   "cell_type": "code",
   "execution_count": null,
   "metadata": {},
   "outputs": [],
   "source": []
  }
 ],
 "metadata": {
  "kernelspec": {
   "display_name": ".unir",
   "language": "python",
   "name": "python3"
  },
  "language_info": {
   "codemirror_mode": {
    "name": "ipython",
    "version": 3
   },
   "file_extension": ".py",
   "mimetype": "text/x-python",
   "name": "python",
   "nbconvert_exporter": "python",
   "pygments_lexer": "ipython3",
   "version": "3.11.12"
  }
 },
 "nbformat": 4,
 "nbformat_minor": 2
}
